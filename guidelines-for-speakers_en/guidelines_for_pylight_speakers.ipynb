{
 "cells": [
  {
   "cell_type": "markdown",
   "metadata": {
    "collapsed": true,
    "slideshow": {
     "slide_type": "slide"
    }
   },
   "source": [
    "## Hi!\n",
    "\n",
    "**We're delighted that you want to speak at our event!**\n",
    "\n",
    "Please take a look at our guidelines for PyLight meetup speakers.\n",
    "\n",
    "<img src=\"PyLight_logo_rgb_color.png\" width=\"250px\" alt=\"PyLight WAW Logo\" />"
   ]
  },
  {
   "cell_type": "markdown",
   "metadata": {
    "slideshow": {
     "slide_type": "slide"
    }
   },
   "source": [
    "# Goals for presentations\n",
    "\n",
    "* Beginner friendly\n",
    "* Engaging\n",
    "* Self-study friendly\n",
    "* Time slot: ca 25 minutes"
   ]
  },
  {
   "cell_type": "markdown",
   "metadata": {
    "slideshow": {
     "slide_type": "notes"
    }
   },
   "source": [
    "## Beginner friendly\n",
    "\n",
    "PyLight is a meetup aimed for beginner/early intermediate programmers. We want to cover topics which may be too basic for meetups geared for experienced professionals but are essential for learning the Python language and programming in general. For us, this means putting a lot of effort in the high quality of the talks - our audience really wants to learn something from you!\n",
    "\n",
    "## Engaging\n",
    "\n",
    "This could mean many things, here are a few examples which may be helpful:\n",
    "\n",
    "* short, interactive code examples\n",
    "* explaining algorithms using props or audience members\n",
    "* good metaphors of abstract concepts\n",
    "\n",
    "## Self-study friendly\n",
    "\n",
    "We encourage you to create presentations with **notes** that are a **good read after the meetup** - this is helpful for reviewing the presented material at home (just your slides may be perfectly OK). Also, if you include further **reading recommendations** and some **excercises**, you are a rockstar!\n",
    "\n",
    "## Short\n",
    "\n",
    "In its base format, a PyLight meetup is too short to cover any topic in real depth. For now, we would like to have **two 25-minutes talks** at every meetup. We hope that this will help the audience retain focus during your presentations, and be a fun challenge for you to use this time slot well :)\n"
   ]
  },
  {
   "cell_type": "markdown",
   "metadata": {
    "slideshow": {
     "slide_type": "slide"
    }
   },
   "source": [
    "# Before your presentation\n",
    "\n",
    "## Still looking for a topic?\n",
    "\n",
    "Shoot us an [email](mailto:hello@pylight.org) and we will help you choose something suitable!\n",
    "\n",
    "## Preparation\n",
    "\n",
    "If you need feedback to your presentation/materials, we will be happy to provide it\n",
    "\n",
    "## Going live\n",
    "\n",
    "Please upload your materials to Github so we can fork your repo. If you think that paper handouts would go well with your talk, send us the materials at least a day before so we can print them.\n",
    "\n",
    "Try to arrive at the venue at least 15 minutes before the meetup starts to ensure all hardware works without hiccups."
   ]
  },
  {
   "cell_type": "markdown",
   "metadata": {
    "slideshow": {
     "slide_type": "slide"
    }
   },
   "source": [
    "# Jupyter\n",
    "\n",
    "<img src=\"jupyter.png\" width=\"250px\" alt=\"Jupyter logo\" />"
   ]
  },
  {
   "cell_type": "markdown",
   "metadata": {
    "slideshow": {
     "slide_type": "notes"
    }
   },
   "source": [
    "We love [Jupyter Notebook](http://jupyter.org/)! It is cool how you can show off working code (Python in this case) mixed with detailed explanations and illustrations, all in a very interactive and readable format.\n",
    "\n",
    "If your presentation is going to have many code samples, this tool may useful to you!\n",
    "\n",
    "## Slides\n",
    "\n",
    "You can create presentation slides without leaving Jupyter! Use the [RISE](https://github.com/damianavila/RISE) extension to enable entering the live slideshow mode. Notebook cells with code are interactive. The slideshow engine behind RISE is [reveal.js](https://github.com/hakimel/reveal.js/).\n",
    "\n",
    "If this slide format does not suit you, use any tool you like. \n"
   ]
  },
  {
   "cell_type": "markdown",
   "metadata": {
    "slideshow": {
     "slide_type": "slide"
    }
   },
   "source": [
    "### How to setup Jupyter?\n",
    "\n",
    "* Create a Python 3+ [virtualenv](https://docs.python.org/3/library/venv.html)\n",
    "* `pip install ipython[all]`\n",
    "* `jupyter notebook` \n",
    "\n",
    "...and it will open a new tab in your browser :)\n",
    "\n",
    "(Tested on Ubuntu 16.04 LTS)"
   ]
  },
  {
   "cell_type": "markdown",
   "metadata": {
    "slideshow": {
     "slide_type": "slide"
    }
   },
   "source": [
    "### How about installing RISE?\n",
    "\n",
    "* In your Jupyter virtualenv install the extension package: \n",
    "```\n",
    "pip install RISE\n",
    "```\n",
    "* Enable it:\n",
    "\n",
    "`jupyter-nbextension install rise --py --sys-prefix`\n",
    "\n",
    "`jupyter-nbextension enable rise --py --sys-prefix`\n",
    "\n",
    "* Restart the notebook server"
   ]
  },
  {
   "cell_type": "markdown",
   "metadata": {
    "slideshow": {
     "slide_type": "slide"
    }
   },
   "source": [
    "### Are there any other ways to install Jupyter?\n",
    "\n",
    "* If you use Conda as your Python package manager, follow instructions on https://jupyter.org\n",
    "* If you have troubles with setting up Jupyter, consider using  a Docker [container](https://hub.docker.com/r/jupyter/) or a virtual machine (e.g. Virtualbox and maybe [Vagrant](https://www.vagrantup.com/intro/index.html))"
   ]
  },
  {
   "cell_type": "markdown",
   "metadata": {
    "slideshow": {
     "slide_type": "slide"
    }
   },
   "source": [
    "### A Jupyter + RISE slide example - look at this document in Jupyter presentation mode :)"
   ]
  },
  {
   "cell_type": "code",
   "execution_count": 1,
   "metadata": {
    "slideshow": {
     "slide_type": "fragment"
    }
   },
   "outputs": [
    {
     "data": {
      "text/plain": [
       "'abababababababababababababababababababa'"
      ]
     },
     "execution_count": 1,
     "metadata": {},
     "output_type": "execute_result"
    }
   ],
   "source": [
    "# Edit this code and hit Ctrl+Enter to run this cell - works on a slide, too!\n",
    "\n",
    "'b'.join(['a'] * 20)"
   ]
  },
  {
   "cell_type": "markdown",
   "metadata": {
    "slideshow": {
     "slide_type": "slide"
    }
   },
   "source": [
    "### Which Python version should I teach?\n",
    "\n",
    "In case of any doubt, use the latest **Python 3** version in your materials.\n",
    "\n"
   ]
  },
  {
   "cell_type": "markdown",
   "metadata": {
    "slideshow": {
     "slide_type": "slide"
    }
   },
   "source": [
    "### Jupyter Resources\n",
    "\n",
    "* Jupyter docs: http://jupyter-notebook.readthedocs.io/en/latest/\n",
    "* RISE usage example: https://www.youtube.com/watch?v=1iMxwyv9014\n",
    "\n"
   ]
  }
 ],
 "metadata": {
  "celltoolbar": "Slideshow",
  "kernelspec": {
   "display_name": "Python 3",
   "language": "python",
   "name": "python3"
  },
  "language_info": {
   "codemirror_mode": {
    "name": "ipython",
    "version": 3
   },
   "file_extension": ".py",
   "mimetype": "text/x-python",
   "name": "python",
   "nbconvert_exporter": "python",
   "pygments_lexer": "ipython3",
   "version": "3.6.3"
  }
 },
 "nbformat": 4,
 "nbformat_minor": 2
}
