{
 "cells": [
  {
   "cell_type": "markdown",
   "metadata": {
    "slideshow": {
     "slide_type": "slide"
    }
   },
   "source": [
    "# #1 - Hello!\n",
    "\n",
    "**26.06.2017**\n",
    "\n",
    "Asia Tustanowska\n",
    "\n",
    "<img src=\"jnn.jpeg\" width=\"200px\" />\n",
    "\n",
    "[@hey_jnn](https://twitter.com/hey_jnn)"
   ]
  },
  {
   "cell_type": "markdown",
   "metadata": {
    "slideshow": {
     "slide_type": "notes"
    }
   },
   "source": [
    "Chciałabym opowiedzieć Wam, skąd się wzięliśmy, co robimy i co zamierzamy :)"
   ]
  },
  {
   "cell_type": "markdown",
   "metadata": {
    "slideshow": {
     "slide_type": "slide"
    }
   },
   "source": [
    "\n",
    "<center><img src=\"../guidelines-for-speakers_en/PyLight_logo_rgb_color.png\" width=\"450px\" alt=\"PyLight WAW Logo\" style=\"position:center\" /></center>\n"
   ]
  },
  {
   "cell_type": "markdown",
   "metadata": {
    "slideshow": {
     "slide_type": "slide"
    }
   },
   "source": [
    "# Kim jesteśmy?\n"
   ]
  },
  {
   "cell_type": "markdown",
   "metadata": {
    "slideshow": {
     "slide_type": "notes"
    }
   },
   "source": [
    "Jesteśmy jednymi z Was. Tak jak Wy, jesteśmy na różnych etapach swojego życia i kariery zawodowej: część z nas pracuje zawodowo jako programistki i programiści, a część właśnie uczy się programowania. Część z nas studiowała lub studiuje informatykę, a część uczy się innymi metodami. Nie wszyscy zamierzamy używać Pythona jako głównego narzędzia pracy, jednak wszyscy docenieamy uniwersalność i przydatność tego języka. Łączy nas przekonanie, że warto wspierać siebie nawzajem i innych w nauce programowania."
   ]
  },
  {
   "cell_type": "markdown",
   "metadata": {
    "slideshow": {
     "slide_type": "slide"
    }
   },
   "source": [
    "## To my, póki co :)\n",
    "\n",
    "<img src=\"pylight-ppl.png\" width=\"500px\" alt=\"PyLight on Github\" style=\"float:left; margin-right: 30px;\" />\n",
    "\n",
    "Agata Grdal <br />\n",
    "Marcin Sędłak <br />\n",
    "Przemek Lewandowski <br />\n",
    "Paulina Jakubowska <br />\n",
    "Asia Tustanowska   <br />\n",
    "Kasia Siedlarek <br />\n",
    "Manana Jaworska <br />\n",
    "Marta Żaryn <br />\n",
    "Paweł Święcki <br />\n",
    "Wiktor Żurawik <br />\n",
    "Wojtek Bederski <br />\n"
   ]
  },
  {
   "cell_type": "markdown",
   "metadata": {
    "slideshow": {
     "slide_type": "slide"
    }
   },
   "source": [
    "\n",
    "<img src=\"bulb.png\" width=\"150px\" alt=\"PyLight WAW Logo\" style=\"float:left; padding: 20px; margin-right: 30px;\" />\n",
    "<br /><br />\n",
    "### Logotyp\n",
    "Autor: Tomek Gawłowski / Mustang Marketing\n",
    "<br />"
   ]
  },
  {
   "cell_type": "markdown",
   "metadata": {
    "slideshow": {
     "slide_type": "notes"
    }
   },
   "source": [
    "Dziękujemy Tomkowi za zaprojektowanie nam wężarówki/żarówęża :) "
   ]
  },
  {
   "cell_type": "markdown",
   "metadata": {
    "slideshow": {
     "slide_type": "fragment"
    }
   },
   "source": [
    "### \"Pyczątkujący\"\n",
    "Bartek Rychlicki"
   ]
  },
  {
   "cell_type": "markdown",
   "metadata": {
    "slideshow": {
     "slide_type": "notes"
    }
   },
   "source": [
    "Kudos dla Bartka Rychlickiego [@bartekbrak](https://twitter.com/bartekbrak) za zrobienie jakiś czas temu prezentacji pod powyższym tytułem. Oprócz słowa 'Pyczątkujący' znaleźliśmy w niej sporo inspiracji :)"
   ]
  },
  {
   "cell_type": "markdown",
   "metadata": {
    "slideshow": {
     "slide_type": "slide"
    }
   },
   "source": [
    "# Skąd przychodzimy?\n"
   ]
  },
  {
   "cell_type": "markdown",
   "metadata": {
    "slideshow": {
     "slide_type": "fragment"
    }
   },
   "source": [
    "<br />\n",
    "<center><img src=\"pywaw-logo-big.png\" height=\"200px\" /></center>"
   ]
  },
  {
   "cell_type": "markdown",
   "metadata": {
    "slideshow": {
     "slide_type": "notes"
    }
   },
   "source": [
    "## PyWaw\n",
    "\n",
    "[PyWaw](http://www.pywaw.org) to nasz siostrzany meetup, skierowany do osób, które już od jakiegoś czasu programują. Nie oznacza to jednak, że publiczność PyWawa zupełnie nie skorzystałaby z obecności na spotkaniach PyLight, ani że każda prezentacja na PyWawie byłaby za trudna dla początkujących. Zapraszamy Was do eksperymentowania i pojawiania się na obydwu spotkaniach :)\n",
    "\n",
    "PyLight wystartował dzięki wsparciu organizatorów PyWaw, a zwłaszcza Przemka Lewandowskiego. Wielkie dzięki!"
   ]
  },
  {
   "cell_type": "markdown",
   "metadata": {
    "slideshow": {
     "slide_type": "fragment"
    }
   },
   "source": [
    "<center><img src=\"https://raw.githubusercontent.com/DjangoGirls/resources/master/Design/Logo/logo.png\" width=\"350px\" /></center>\n"
   ]
  },
  {
   "cell_type": "markdown",
   "metadata": {
    "slideshow": {
     "slide_type": "notes"
    }
   },
   "source": [
    "## Django Girls\n",
    "\n",
    "(Django Girls, łapki w górę!) Co tu dużo mówić, znaczna część naszego zespołu to organizatorki, mentorki, mentorzy i absolwentki warszawskich (i nie tylko) edycji warsztatów [Django Girls](https://www.djangogirls.org). Django Girls to ok. 1 dniowe, intensywne warsztaty dla kobiet, na których uczestniczki tworzą swoją pierwszą aplikację internetową (bloga) w Pythonie i frameworku Django. \n",
    "\n",
    "Warsztaty Django Girls i podobne (np. PyCode Carrots) inspirują wiele uczestniczek do podjęcia dalszej nauki programowania. PyLight powstaje między innymi z myślą o nich/o Was. Chcemy, żeby to było miejsce przyjazne wszystkim i będziemy bardzo zachęcać Was, dziewczyny, żebyście zostały z nami :)\n"
   ]
  },
  {
   "cell_type": "markdown",
   "metadata": {
    "slideshow": {
     "slide_type": "slide"
    }
   },
   "source": [
    "# Dlaczego to robimy?"
   ]
  },
  {
   "cell_type": "markdown",
   "metadata": {
    "slideshow": {
     "slide_type": "slide"
    }
   },
   "source": [
    "### Python jest super!"
   ]
  },
  {
   "cell_type": "markdown",
   "metadata": {
    "slideshow": {
     "slide_type": "notes"
    }
   },
   "source": [
    "Python jest językiem uniwersalnym, używają go programiści z wielu dziedzin. Jest jednocześnie niezwykle silnym narzędziem dla profesjonalistów, w którym można realizować bardzo ciekawe projekty i wspaniałym narzędziem edukacyjnym, za pomocą którego można nauczyć się podstaw programowania. \n",
    "\n",
    "Chcielibyśmy, żeby jak najwięcej osób uczących się programować wybierało Pythona.\n",
    "\n",
    "Poniżej wykorzystuję Pythona jako narzędzie perswazji :)"
   ]
  },
  {
   "cell_type": "code",
   "execution_count": 9,
   "metadata": {
    "collapsed": true,
    "slideshow": {
     "slide_type": "fragment"
    }
   },
   "outputs": [],
   "source": [
    "from IPython.display import Image\n",
    "\n",
    "def what_should_i_learn():\n",
    "    return Image('python-logo.png')"
   ]
  },
  {
   "cell_type": "code",
   "execution_count": 10,
   "metadata": {
    "slideshow": {
     "slide_type": "fragment"
    }
   },
   "outputs": [
    {
     "data": {
      "image/png": "[encoded data removed]",
      "text/plain": [
       "<IPython.core.display.Image object>"
      ]
     },
     "execution_count": 10,
     "metadata": {},
     "output_type": "execute_result"
    }
   ],
   "source": [
    "what_should_i_learn()"
   ]
  },
  {
   "cell_type": "markdown",
   "metadata": {
    "slideshow": {
     "slide_type": "slide"
    }
   },
   "source": [
    "## Dobrze jest robić rzeczy razem"
   ]
  },
  {
   "cell_type": "markdown",
   "metadata": {
    "slideshow": {
     "slide_type": "fragment"
    }
   },
   "source": [
    "* dzielmy się wiedzą"
   ]
  },
  {
   "cell_type": "markdown",
   "metadata": {
    "slideshow": {
     "slide_type": "notes"
    }
   },
   "source": [
    "Dzielenie się wiedzą pomaga utrwalić sobie to, co już umiemy. Pomaga wyjść ze swojej skorupy i spotkać się z ludźmi, pozwala poprawić swoje umiejętności przemawiania publicznego lub pisania i wypowiadania się składnie. \n",
    "\n",
    "Zachęcamy Was, starszych i młodszych stażem do brania czynnego udziału w naszych spotkaniach, zgłaszania swoich prezentacji, chęci udzielenia komuś programistycznej pomocy i innych pomysłów na popularyzację Pythona."
   ]
  },
  {
   "cell_type": "markdown",
   "metadata": {
    "slideshow": {
     "slide_type": "fragment"
    }
   },
   "source": [
    "* organizujmy się"
   ]
  },
  {
   "cell_type": "markdown",
   "metadata": {
    "slideshow": {
     "slide_type": "notes"
    }
   },
   "source": [
    "Rozmawiajcie ze sobą nawzajem, łączcie się w zespoły i uczcie się razem np. realizując wspólne projekty. \n",
    "Oprócz spotkań w realu chcielibyśmy też stworzyć dla Was przestrzeń w Internecie - pracujemy jeszcze nad konkretami. Naszym marzeniem jest także organizowanie warsztatów i wydarzeń związanych z programowaniem w Pythonie. Mamy nadzieję, że z naszej wspólnej energii powstanie coś naprawdę fajnego."
   ]
  },
  {
   "cell_type": "markdown",
   "metadata": {
    "slideshow": {
     "slide_type": "fragment"
    }
   },
   "source": [
    "* wszystkie i wszyscy"
   ]
  },
  {
   "cell_type": "markdown",
   "metadata": {
    "slideshow": {
     "slide_type": "notes"
    }
   },
   "source": [
    "Byłoby wspaniale, gdyby nowe pokolenia osób zajmujących się programowaniem były bardziej różnorodne od poprzednich. Żeby to był stan oczywisty i naturalny, że programują zarówno kobiety jak i mężczyźni. Dlatego będziemy się starali tworzyć przestrzeń, w której każda i każdy może śmiało się rozwijać."
   ]
  },
  {
   "cell_type": "markdown",
   "metadata": {
    "slideshow": {
     "slide_type": "slide"
    }
   },
   "source": [
    "# Startujemy!\n",
    "\n",
    "<center><img src=\"https://media.giphy.com/media/26AHyxxCItIbFijLO/giphy.gif\" width=\"300px\" /></center>"
   ]
  },
  {
   "cell_type": "markdown",
   "metadata": {
    "slideshow": {
     "slide_type": "slide"
    }
   },
   "source": [
    "## Jak skorzystać jak najwięcej z prezentacji?\n"
   ]
  },
  {
   "cell_type": "markdown",
   "metadata": {
    "slideshow": {
     "slide_type": "fragment"
    }
   },
   "source": [
    "* zadaj pytanie - karteczki / sli.do"
   ]
  },
  {
   "cell_type": "markdown",
   "metadata": {
    "slideshow": {
     "slide_type": "fragment"
    }
   },
   "source": [
    "* po prezentacji przeczytaj notatki - udostępnimy je na naszym [githubie](https://www.github.com/PyLightMeetup/pylight-resources) i stronie www"
   ]
  },
  {
   "cell_type": "markdown",
   "metadata": {
    "slideshow": {
     "slide_type": "fragment"
    }
   },
   "source": [
    "* ucz się przez działanie! \n",
    "    * modyfikuj przykłady kodu, nie kopiuj"
   ]
  },
  {
   "cell_type": "markdown",
   "metadata": {
    "slideshow": {
     "slide_type": "fragment"
    }
   },
   "source": [
    "* podejmij wyzwanie - rób zadania :)"
   ]
  },
  {
   "cell_type": "markdown",
   "metadata": {
    "slideshow": {
     "slide_type": "slide"
    }
   },
   "source": [
    "## Narzędzie do notatek?\n",
    "<br/>\n",
    "### [Jupyter notebook](http://jupyter.org) \n",
    "\n",
    "<center><img src=\"../guidelines-for-speakers_en/jupyter.png\" width=\"250px\" /></center>"
   ]
  },
  {
   "cell_type": "markdown",
   "metadata": {
    "slideshow": {
     "slide_type": "notes"
    }
   },
   "source": [
    "Jeśli uczysz się nowego zagadnienia w Pythonie, Jupyter może być pomocny. Pozwala on mieszać tekst z kodem np. Pythona, obrazami i wykresami wygenerowanymi przez ten kod. Na następnych prezentacjach często zobaczycie go w akcji, polecamy go też do samodzielnego robienia notatek."
   ]
  },
  {
   "cell_type": "markdown",
   "metadata": {
    "slideshow": {
     "slide_type": "slide"
    }
   },
   "source": [
    "# Dziękuję!"
   ]
  }
 ],
 "metadata": {
  "celltoolbar": "Slideshow",
  "kernelspec": {
   "display_name": "Python 3",
   "language": "python",
   "name": "python3"
  },
  "language_info": {
   "codemirror_mode": {
    "name": "ipython",
    "version": 3
   },
   "file_extension": ".py",
   "mimetype": "text/x-python",
   "name": "python",
   "nbconvert_exporter": "python",
   "pygments_lexer": "ipython3",
   "version": "3.5.2+"
  },
  "livereveal": {
   "start_slideshow_at": "selected",
   "theme": "serif",
   "transition": "zoom"
  }
 },
 "nbformat": 4,
 "nbformat_minor": 2
}
