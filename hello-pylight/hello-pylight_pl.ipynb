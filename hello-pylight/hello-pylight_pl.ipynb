{
 "cells": [
  {
   "cell_type": "markdown",
   "metadata": {
    "slideshow": {
     "slide_type": "slide"
    }
   },
   "source": [
    "## Hello world!\n",
    "\n",
    "**26.06.2017**\n",
    "\n",
    "Asia Tustanowska\n"
   ]
  },
  {
   "cell_type": "markdown",
   "metadata": {
    "slideshow": {
     "slide_type": "slide"
    }
   },
   "source": [
    "\n",
    "<center><img src=\"../guidelines-for-speakers_en/PyLight_logo_rgb_color.png\" width=\"450px\" alt=\"PyLight WAW Logo\" style=\"position:center\" /></center>\n"
   ]
  },
  {
   "cell_type": "markdown",
   "metadata": {
    "slideshow": {
     "slide_type": "slide"
    }
   },
   "source": [
    "## Kim jesteśmy?\n"
   ]
  },
  {
   "cell_type": "markdown",
   "metadata": {
    "slideshow": {
     "slide_type": "notes"
    }
   },
   "source": [
    "Jesteśmy jednymi z Was. Tak jak Wy, jesteśmy na różnych etapach swojego życia i kariery zawodowej: część z nas pracuje zawodowo jako programistki i programiści, a część właśnie uczy się programowania. Część z nas studiowała lub studiuje informatykę, a część uczy się innymi metodami. Nie wszyscy zamierzamy używać Pythona jako głównego narzędzia pracy, jednak wszyscy docenieamy uniwersalność i przydatność tego języka. Łączy nas przekonanie, że warto wspierać siebie nawzajem i innych w nauce programowania."
   ]
  },
  {
   "cell_type": "markdown",
   "metadata": {
    "slideshow": {
     "slide_type": "slide"
    }
   },
   "source": [
    "## To my: PyLight i Przyjaciele\n",
    "\n",
    "```\n",
    "Agata Grdal\n",
    "Marta Żaryn\n",
    "Paulina Jakubowska\n",
    "Manana Jaworska\n",
    "Wiktor Żurawik\n",
    "Paweł Święcki\n",
    "Wojtek Bederski\n",
    "Asia Tustanowska\n",
    "Przemek Lewandowski\n",
    "Marcin Sędłak\n",
    "```\n",
    "\n",
    "Mamy takie fajne logo autorstwa ???.\n",
    "\n",
    "'Pyczątkujący' by Bartek Rychlicki :)"
   ]
  },
  {
   "cell_type": "markdown",
   "metadata": {
    "slideshow": {
     "slide_type": "slide"
    }
   },
   "source": [
    "## Skąd przychodzimy?\n",
    "<br />\n",
    "<center><img src=\"pywaw-logo-big.png\" height=\"200px\" /></center>\n"
   ]
  },
  {
   "cell_type": "markdown",
   "metadata": {
    "slideshow": {
     "slide_type": "notes"
    }
   },
   "source": [
    "## PyWaw\n",
    "\n",
    "[PyWaw](www.pywaw.org) to nasz siostrzany meetup, skierowany do osób, które już od jakiegoś czasu programują. Nie oznacza to jednak, że publiczność PyWawa zupełnie nie skorzystałaby z obecności na spotkaniach PyLight, ani że każda prezentacja na PyWawie byłaby za trudna dla początkujących. Zapraszamy Was do eksperymentowania i pojawiania się na obydwu spotkaniach :)\n",
    "\n",
    "PyLight wystartował dzięki wsparciu organizatorów PyWaw, a zwłaszcza Przemka Lewandowskiego. Wielkie dzięki!"
   ]
  },
  {
   "cell_type": "markdown",
   "metadata": {
    "slideshow": {
     "slide_type": "fragment"
    }
   },
   "source": [
    "<center><img src=\"https://raw.githubusercontent.com/DjangoGirls/resources/master/Design/Logo/logo.png\" width=\"350px\" /></center>\n"
   ]
  },
  {
   "cell_type": "markdown",
   "metadata": {
    "slideshow": {
     "slide_type": "notes"
    }
   },
   "source": [
    "## Django Girls\n",
    "\n",
    "(Django Girls, łapki w górę!) Co tu dużo mówić, znaczna część naszego zespołu to organizatorki, mentorki, mentorzy i absolwentki warszawskich (i nie tylko) edycji warsztatów [Django Girls](www.djangogirls.org). Django Girls to ok. 1 dniowe, intensywne warsztaty dla kobiet, na których uczestniczki tworzą swoją pierwszą aplikację internetową (bloga) w Pythonie i frameworku Django. \n",
    "\n",
    "Warsztaty Django Girls i podobne (np. PyCode Carrots) inspirują wiele uczestniczek do podjęcia dalszej nauki programowania. PyLight powstaje między innymi z myślą o nich/o Was. Chcemy, żeby to było miejsce przyjazne wszystkim i będziemy bardzo zachęcać Was, dziewczyny, żebyście zostały z nami :)\n"
   ]
  },
  {
   "cell_type": "markdown",
   "metadata": {
    "slideshow": {
     "slide_type": "slide"
    }
   },
   "source": [
    "## PyLight - narodziny"
   ]
  }
 ],
 "metadata": {
  "celltoolbar": "Slideshow",
  "kernelspec": {
   "display_name": "Python 3",
   "language": "python",
   "name": "python3"
  },
  "language_info": {
   "codemirror_mode": {
    "name": "ipython",
    "version": 3
   },
   "file_extension": ".py",
   "mimetype": "text/x-python",
   "name": "python",
   "nbconvert_exporter": "python",
   "pygments_lexer": "ipython3",
   "version": "3.5.2+"
  },
  "livereveal": {
   "theme": "serif",
   "transition": "zoom"
  }
 },
 "nbformat": 4,
 "nbformat_minor": 2
}
