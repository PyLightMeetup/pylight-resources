{
 "cells": [
  {
   "cell_type": "markdown",
   "metadata": {
    "collapsed": true,
    "slideshow": {
     "slide_type": "slide"
    }
   },
   "source": [
    "## Cześć!\n",
    "\n",
    "**Bardzo się cieszymy, że chcesz wystąpić na naszym spotkaniu!**\n",
    "\n",
    "Poniżej znajdziesz trochę wskazówek dla prelegentów PyLighta.\n",
    "\n",
    "<img src=\"PyLight_logo_rgb_color.png\" width=\"250px\" alt=\"PyLight WAW Logo\" />"
   ]
  },
  {
   "cell_type": "markdown",
   "metadata": {
    "slideshow": {
     "slide_type": "slide"
    }
   },
   "source": [
    "# Co cenimy w prezentacjach?\n",
    "\n",
    "* Przyjazna dla początkujących\n",
    "* Ciekawa, angażująca\n",
    "* Przydatna w samodzielnej nauce \n",
    "* Niezbyt długa: masz 25 minut + kilka minut na Q&A\n"
   ]
  },
  {
   "cell_type": "markdown",
   "metadata": {
    "slideshow": {
     "slide_type": "notes"
    }
   },
   "source": [
    "## Przyjazna dla początkujących\n",
    "\n",
    "Publiczność PyLighta to osoby początkujące-średniozaawansowane. Chcielibyśmy omawiać tematy, które mogą być trochę za bardzo podstawowe dla starszych stażem profesjonalistów, za to bardzo przydatne dla osób, które dopiero zaczynają programować lub pracować na stanowisku programisty. Bardzo zależy nam, żeby publiczność wyniosła coś wartościowego z Twojej prezentacji!\n",
    "\n",
    "## Ciekawa, angażująca\n",
    "\n",
    "Trudno to jednoznacznie zdefiniować. Poniżej kilka przykładów:\n",
    "\n",
    "* staraj się nie przeładowywać prezentacji informacjami\n",
    "* używaj **krótkich**, działających przykładów kodu\n",
    "* jeśli przedstawiasz jakiś algorytm, być może dobrze się sprawdzi użycie jakichś fizycznych przedmiotów lub osób z widowni\n",
    "\n",
    "## Przydatna w samodzielnej nauce\n",
    "\n",
    "Zachęcamy prelegentów do tworzenia **materiałów** z prezentacji (zwłaszcza technicznych), które będzie można sobie poczytać samodzielnie po spotkaniu, w ramach powtórki. Tę rolę mogą oczywiście pełnić po prostu slajdy. Będzie wspaniale, jeśli zarekomendujesz trochę **literatury** dla dalszego zgłębienia tematu i ew. **propozycje ćwiczeń**. \n",
    "\n",
    "## Niezbyt długa\n",
    "\n",
    "Jedna prezentacja to zazwyczaj za mało, żeby dogłębnie przedstawić dowolny temat, nawet jeśli jest długa. Dlatego poprzestajemy na dwóch krótkich prelekcjach po **25 minut**. Chcielibyśmy, żeby publiczność była w stanie bez większych problemów utrzymać koncentrację przez całe spotkanie :)\n"
   ]
  },
  {
   "cell_type": "markdown",
   "metadata": {},
   "source": [
    "# Zanim wystąpisz...\n",
    "\n",
    "## Szukasz tematu prezentacji?\n",
    "\n",
    "Napisz do nas na [email](mailto:hello@pylight.org), pomożemy Ci znaleźć coś odpowiedniego.\n",
    "\n",
    "## Przygotowania\n",
    "\n",
    "Jeśli potrzebujesz feedbacku do swojej prezentacji i/lub materiałów, chętnie Ci pomożemy!\n",
    "\n",
    "## Przed spotkaniem\n",
    "\n",
    "Wgraj swoje materiały do repozytorium na Githubie, a my zrobimy forka. Jeśli uważasz, że do Twojego wystąpienia pasowałyby materiały wydrukowane na papierze, daj nam znać co najmniej dzień wcześniej, żebyśmy zdążyli zamówić wydruk.\n",
    "\n",
    "Prosimy prelegentów o przybycie co najmniej 15 przed spotkaniem, żeby upewnić się, że niezbędny sprzęt działa poprawnie :)"
   ]
  },
  {
   "cell_type": "markdown",
   "metadata": {
    "slideshow": {
     "slide_type": "slide"
    }
   },
   "source": [
    "# Jupyter notebook\n",
    "\n",
    "<img src=\"jupyter.png\" width=\"250px\" alt=\"Jupyter logo\" />"
   ]
  },
  {
   "cell_type": "markdown",
   "metadata": {
    "slideshow": {
     "slide_type": "notes"
    }
   },
   "source": [
    "[Jupyter Notebook](http://jupyter.org/) bardzo nam się spodobał jako narzędzie pomocne w tworzeniu prezentacji. Pozwala mieszać działający(!) kod z tekstem i ilustracjami. Jeśli Twoja prezentacja będzie zawierać dużo kodu, zachęcamy Cię do tworzenia materiałów dla publiczności (i być może slajdów) właśnie w Jupyterze.\n",
    "\n",
    "## Slajdy\n",
    "\n",
    "Rozszerzenie [RISE](https://github.com/damianavila/RISE) pozwala przełączać się w tryb prezentacji bez przełączania się z Jupyter notebooka. Wskazówka: komórki z kodem na slajdach nadal są edytowalne i interaktywne! Silnikiem renderującym slajdy w RISE jest [reveal.js](https://github.com/hakimel/reveal.js/)\n",
    "\n",
    "Ten sposób pracy z Jupyterem ma jednak pewne ograniczenia i nie sprawdzi się w każdej sytuacji (np. trudno jest wygenerować plik w formacie PDF), dlatego przygotuj swoje slajdy w narzędziu, które jest dla Ciebie najbardziej odpowiednie.\n"
   ]
  },
  {
   "cell_type": "markdown",
   "metadata": {
    "slideshow": {
     "slide_type": "slide"
    }
   },
   "source": [
    "### Jak zainstalować Jupytera?\n",
    "\n",
    "* Stwórz [virtualenv](https://docs.python.org/3/library/venv.html) z pythonem 3+\n",
    "* `pip install ipython[all]`\n",
    "* `jupyter notebook` \n",
    "\n",
    "...ostatnie polecenie wystartuje lokalny serwer jupytera i powinno otworzyć nową zakładkę w Twojej przeglądarce :)\n",
    "\n",
    "(Testowane na Ubuntu 16.04 LTS oraz 17.10)"
   ]
  },
  {
   "cell_type": "markdown",
   "metadata": {
    "slideshow": {
     "slide_type": "slide"
    }
   },
   "source": [
    "### Jak zainstalować rozszerzenie RISE?\n",
    "\n",
    "* W virtualenvie, w którym masz zainstalowanego Jupytera, zainstaluj pakiet z rozszerzeniem:\n",
    "```\n",
    "pip install RISE\n",
    "```\n",
    "* Następnie włącz go:\n",
    "\n",
    "`jupyter-nbextension install rise --py --sys-prefix`\n",
    "\n",
    "`jupyter-nbextension enable rise --py --sys-prefix`\n",
    "\n",
    "* Uruchom ponownie serwer jupyter notebooka "
   ]
  },
  {
   "cell_type": "markdown",
   "metadata": {
    "slideshow": {
     "slide_type": "slide"
    }
   },
   "source": [
    "### Czy mogę zainstalować Jupytera w inny sposób?\n",
    "\n",
    "* Jeżeli używasz [Condy](https://conda.io/docs/) jako managera pakietów Pythonowych, zajrzyj po instrukcje na https://jupyter.org\n",
    "* Możesz użyć [Dockera](https://hub.docker.com/r/jupyter/) lub maszyny wirtualnej (np. VirtualBox) i [Vagranta](https://www.vagrantup.com/intro/index.html))"
   ]
  },
  {
   "cell_type": "markdown",
   "metadata": {
    "slideshow": {
     "slide_type": "slide"
    }
   },
   "source": [
    "### Polecamy obejrzeć ten dokument w trybie prezentacji - to jest przykład slajdu z kodem"
   ]
  },
  {
   "cell_type": "code",
   "execution_count": 1,
   "metadata": {
    "slideshow": {
     "slide_type": "fragment"
    }
   },
   "outputs": [
    {
     "data": {
      "text/plain": [
       "'abababababababababa'"
      ]
     },
     "execution_count": 1,
     "metadata": {},
     "output_type": "execute_result"
    }
   ],
   "source": [
    "# Edit this code and hit Ctrl+Enter to run this cell - works on a slide, too!\n",
    "\n",
    "'b'.join(['a'] * 10)"
   ]
  },
  {
   "cell_type": "markdown",
   "metadata": {
    "slideshow": {
     "slide_type": "slide"
    }
   },
   "source": [
    "### Której wersji Pythona używać w swoich materiałach?\n",
    "\n",
    "W razie wątpliwości, użyj najnowszego **Pythona 3** :-)\n",
    "\n"
   ]
  },
  {
   "cell_type": "markdown",
   "metadata": {
    "slideshow": {
     "slide_type": "slide"
    }
   },
   "source": [
    "### Jupyter - linki\n",
    "\n",
    "* Jupyter docs: http://jupyter-notebook.readthedocs.io/en/latest/\n",
    "* RISE usage example: https://www.youtube.com/watch?v=1iMxwyv9014\n",
    "\n"
   ]
  }
 ],
 "metadata": {
  "celltoolbar": "Slideshow",
  "kernelspec": {
   "display_name": "Python 3",
   "language": "python",
   "name": "python3"
  },
  "language_info": {
   "codemirror_mode": {
    "name": "ipython",
    "version": 3
   },
   "file_extension": ".py",
   "mimetype": "text/x-python",
   "name": "python",
   "nbconvert_exporter": "python",
   "pygments_lexer": "ipython3",
   "version": "3.6.3"
  }
 },
 "nbformat": 4,
 "nbformat_minor": 2
}
